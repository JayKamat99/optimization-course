{
 "cells": [
  {
   "cell_type": "code",
   "execution_count": 1,
   "metadata": {},
   "outputs": [],
   "source": [
    "import sys\n",
    "sys.path.append('../build')\n",
    "import numpy as np\n",
    "import libry as ry"
   ]
  },
  {
   "cell_type": "markdown",
   "metadata": {},
   "source": [
    "Define a function to compute differentiable features"
   ]
  },
  {
   "cell_type": "code",
   "execution_count": 2,
   "metadata": {},
   "outputs": [],
   "source": [
    "#the function needs to have the signature (array) -> (array, array) with dimensionalities (n) -> (d, d-times-n)\n",
    "def sqrPot(x):\n",
    "    y = np.array(x)\n",
    "    y[0] = y[0] - 1.\n",
    "    J = np.eye(y.size)\n",
    "    return y,J"
   ]
  },
  {
   "cell_type": "markdown",
   "metadata": {},
   "source": [
    "Define a NLP (non-linear mathematical program)"
   ]
  },
  {
   "cell_type": "code",
   "execution_count": 7,
   "metadata": {},
   "outputs": [],
   "source": [
    "nlp = ry.NLP_Factory()\n",
    "nlp.setDimension(3)\n",
    "nlp.setBounds([-2,-2,-2],[2,2,2])\n",
    "nlp.setFeatureTypes([ry.OT.sos, ry.OT.sos, ry.OT.sos])\n",
    "nlp.setEvalCallback(sqrPot)"
   ]
  },
  {
   "cell_type": "code",
   "execution_count": 8,
   "metadata": {},
   "outputs": [
    {
     "data": {
      "text/plain": [
       "(array([-1.87339878, -0.32094097,  1.82815742]), array([[ 1.,  0.,  0.],\n",
       "        [ 0.,  1.,  0.],\n",
       "        [ 0.,  0.,  1.]]))"
      ]
     },
     "execution_count": 8,
     "metadata": {},
     "output_type": "execute_result"
    }
   ],
   "source": [
    "nlp.testCallingEvalCallback(nlp.getInitializationSample())"
   ]
  },
  {
   "cell_type": "markdown",
   "metadata": {},
   "source": [
    "Define a solver"
   ]
  },
  {
   "cell_type": "code",
   "execution_count": 9,
   "metadata": {},
   "outputs": [
    {
     "data": {
      "text/plain": [
       "<libry.NLP_Solver at 0x7f2146c549d0>"
      ]
     },
     "execution_count": 9,
     "metadata": {},
     "output_type": "execute_result"
    }
   ],
   "source": [
    "solver = ry.NLP_Solver()\n",
    "solver.setProblem(nlp)\n",
    "solver.setSolver(ry.NLP_SolverID.newton)"
   ]
  },
  {
   "cell_type": "code",
   "execution_count": 10,
   "metadata": {},
   "outputs": [
    {
     "data": {
      "text/plain": [
       "array([  9.96915092e-01,   1.36573836e-04,  -1.73920835e-03])"
      ]
     },
     "execution_count": 10,
     "metadata": {},
     "output_type": "execute_result"
    }
   ],
   "source": [
    "solver.solve(True)"
   ]
  },
  {
   "cell_type": "code",
   "execution_count": 13,
   "metadata": {},
   "outputs": [
    {
     "data": {
      "text/plain": [
       "array([[ -1.64987755e+00,   1.17314339e-01,  -1.49394703e+00],\n",
       "       [ -1.44987755e+00,   1.08460017e-01,  -1.38119110e+00],\n",
       "       [ -1.24987755e+00,   9.96056957e-02,  -1.26843517e+00],\n",
       "       [ -1.04987755e+00,   9.07513742e-02,  -1.15567924e+00],\n",
       "       [ -8.49877548e-01,   8.18970527e-02,  -1.04292331e+00],\n",
       "       [ -6.49877548e-01,   7.30427312e-02,  -9.30167382e-01],\n",
       "       [ -4.49877548e-01,   6.41884097e-02,  -8.17411453e-01],\n",
       "       [ -2.49877548e-01,   5.53340882e-02,  -7.04655523e-01],\n",
       "       [ -4.98775482e-02,   4.64797667e-02,  -5.91899594e-01],\n",
       "       [  1.50122452e-01,   3.76254452e-02,  -4.79143664e-01],\n",
       "       [  3.50122452e-01,   2.87711237e-02,  -3.66387735e-01],\n",
       "       [  5.50122452e-01,   1.99168022e-02,  -2.53631805e-01],\n",
       "       [  7.50122452e-01,   1.10624807e-02,  -1.40875876e-01],\n",
       "       [  9.16707484e-01,   3.68749358e-03,  -4.69586253e-02],\n",
       "       [  9.72235828e-01,   1.22916453e-03,  -1.56528751e-02],\n",
       "       [  9.90745276e-01,   4.09721509e-04,  -5.21762504e-03],\n",
       "       [  9.96915092e-01,   1.36573836e-04,  -1.73920835e-03]])"
      ]
     },
     "execution_count": 13,
     "metadata": {},
     "output_type": "execute_result"
    }
   ],
   "source": [
    "solver.getTrace_x()"
   ]
  },
  {
   "cell_type": "code",
   "execution_count": 12,
   "metadata": {},
   "outputs": [
    {
     "data": {
      "text/plain": [
       "array([[  9.26749140e+00,   0.00000000e+00,   0.00000000e+00],\n",
       "       [  7.92135243e+00,   0.00000000e+00,   0.00000000e+00],\n",
       "       [  6.68079806e+00,   0.00000000e+00,   0.00000000e+00],\n",
       "       [  5.54582828e+00,   0.00000000e+00,   0.00000000e+00],\n",
       "       [  4.51644310e+00,   0.00000000e+00,   0.00000000e+00],\n",
       "       [  3.59264252e+00,   0.00000000e+00,   0.00000000e+00],\n",
       "       [  2.77442654e+00,   0.00000000e+00,   0.00000000e+00],\n",
       "       [  2.06179515e+00,   0.00000000e+00,   0.00000000e+00],\n",
       "       [  1.45474836e+00,   0.00000000e+00,   0.00000000e+00],\n",
       "       [  9.53286172e-01,   0.00000000e+00,   0.00000000e+00],\n",
       "       [  5.57408577e-01,   0.00000000e+00,   0.00000000e+00],\n",
       "       [  2.67115580e-01,   0.00000000e+00,   0.00000000e+00],\n",
       "       [  8.24071800e-02,   0.00000000e+00,   0.00000000e+00],\n",
       "       [  9.15635333e-03,   0.00000000e+00,   0.00000000e+00],\n",
       "       [  1.01737259e-03,   0.00000000e+00,   0.00000000e+00],\n",
       "       [  1.13041399e-04,   0.00000000e+00,   0.00000000e+00],\n",
       "       [  1.25601555e-05,   0.00000000e+00,   0.00000000e+00]])"
      ]
     },
     "execution_count": 12,
     "metadata": {},
     "output_type": "execute_result"
    }
   ],
   "source": [
    "solver.getTrace_costs()"
   ]
  },
  {
   "cell_type": "code",
   "execution_count": 14,
   "metadata": {},
   "outputs": [
    {
     "name": "stdout",
     "output_type": "stream",
     "text": [
      "NLP of type 'NLP_Factory' -- no reporting implemented\n"
     ]
    }
   ],
   "source": [
    "print(nlp.report(1))"
   ]
  },
  {
   "cell_type": "code",
   "execution_count": null,
   "metadata": {},
   "outputs": [],
   "source": []
  }
 ],
 "metadata": {
  "kernelspec": {
   "display_name": "Python 3",
   "language": "python",
   "name": "python3"
  },
  "language_info": {
   "codemirror_mode": {
    "name": "ipython",
    "version": 3
   },
   "file_extension": ".py",
   "mimetype": "text/x-python",
   "name": "python",
   "nbconvert_exporter": "python",
   "pygments_lexer": "ipython3",
   "version": "3.6.9"
  }
 },
 "nbformat": 4,
 "nbformat_minor": 4
}
