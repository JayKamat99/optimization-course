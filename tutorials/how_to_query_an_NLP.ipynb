{
 "cells": [
  {
   "cell_type": "markdown",
   "metadata": {},
   "source": [
    "## Using a benchmark problem\n",
    "This tutorial shows how to use and query a benchmark problem."
   ]
  },
  {
   "cell_type": "code",
   "execution_count": 1,
   "metadata": {},
   "outputs": [],
   "source": [
    "import sys\n",
    "sys.path.append('../build')\n",
    "import numpy as np\n",
    "import libry as ry"
   ]
  },
  {
   "cell_type": "markdown",
   "metadata": {},
   "source": [
    "The following loads a benchmark problem, from which we get the ry.MathematicalProgram interface"
   ]
  },
  {
   "cell_type": "code",
   "execution_count": 2,
   "metadata": {},
   "outputs": [],
   "source": [
    "benchmark = ry.OptBenchmark_InvKin_Endeff(\"../rai/test/KOMO/switches/model2.g\", True)\n",
    "nlp = benchmark.get()"
   ]
  },
  {
   "cell_type": "code",
   "execution_count": 3,
   "metadata": {},
   "outputs": [
    {
     "name": "stdout",
     "output_type": "stream",
     "text": [
      "Help on MathematicalProgram in module libry object:\n",
      "\n",
      "class MathematicalProgram(pybind11_builtins.pybind11_object)\n",
      " |  Method resolution order:\n",
      " |      MathematicalProgram\n",
      " |      pybind11_builtins.pybind11_object\n",
      " |      builtins.object\n",
      " |  \n",
      " |  Methods defined here:\n",
      " |  \n",
      " |  __init__(self, /, *args, **kwargs)\n",
      " |      Initialize self.  See help(type(self)) for accurate signature.\n",
      " |  \n",
      " |  evaluate(...)\n",
      " |      evaluate(self: libry.MathematicalProgram, arg0: rai::Array<T>) -> Tuple[rai::Array<T>, rai::Array<T>]\n",
      " |      \n",
      " |      query the NLP at a point $x$; returns the tuple $(phi,J)$, which is the feature vector and its Jacobian; features define cost terms, sum-of-square (sos) terms, inequalities, and equalities depending on 'getFeatureTypes'\n",
      " |  \n",
      " |  getBounds(...)\n",
      " |      getBounds(self: libry.MathematicalProgram) -> Tuple[rai::Array<T>, rai::Array<T>]\n",
      " |      \n",
      " |      returns the tuple $(b_{lo},b_{up})$, where both vectors are of same dimensionality of $x$ (or size zero, if there are no bounds)\n",
      " |  \n",
      " |  getDimension(...)\n",
      " |      getDimension(self: libry.MathematicalProgram) -> int\n",
      " |      \n",
      " |      return the dimensionality of $x$\n",
      " |  \n",
      " |  getFHessian(...)\n",
      " |      getFHessian(self: libry.MathematicalProgram, arg0: rai::Array<T>) -> rai::Array<T>\n",
      " |      \n",
      " |      returns Hessian of the sum of $f$-terms\n",
      " |  \n",
      " |  getFeatureTypes(...)\n",
      " |      getFeatureTypes(self: libry.MathematicalProgram) -> rai::Array<T>\n",
      " |      \n",
      " |      features (entries of $phi$) can be of one of (ry.OT.f, ry.OT.sos, ry.OT.ineq, ry.OT.eq), which means (cost, sum-of-square, inequality, equality). The total cost $f(x)$ is the sum of all f-terms plus sum-of-squares of sos-terms.\n",
      " |  \n",
      " |  getInitializationSample(...)\n",
      " |      getInitializationSample(self: libry.MathematicalProgram, previousOptima: rai::Array<T> = array(0.0)) -> rai::Array<T>\n",
      " |      \n",
      " |      returns a sample (e.g. uniform within bounds) to initialize an optimization -- not necessarily feasible\n",
      " |  \n",
      " |  report(...)\n",
      " |      report(self: libry.MathematicalProgram, arg0: int) -> str\n",
      " |      \n",
      " |      displays semantic information on the last query\n",
      " |  \n",
      " |  ----------------------------------------------------------------------\n",
      " |  Methods inherited from pybind11_builtins.pybind11_object:\n",
      " |  \n",
      " |  __new__(*args, **kwargs) from pybind11_builtins.pybind11_type\n",
      " |      Create and return a new object.  See help(type) for accurate signature.\n",
      "\n"
     ]
    }
   ],
   "source": [
    "help(nlp)"
   ]
  },
  {
   "cell_type": "markdown",
   "metadata": {},
   "source": [
    "The first method to use is `getInitializationSample`, which returns an initial x"
   ]
  },
  {
   "cell_type": "code",
   "execution_count": 4,
   "metadata": {},
   "outputs": [],
   "source": [
    "x = nlp.getInitializationSample()"
   ]
  },
  {
   "cell_type": "markdown",
   "metadata": {},
   "source": [
    "The most important method is `evaluate(x)`, which returns a tuple `(phi,J)`"
   ]
  },
  {
   "cell_type": "code",
   "execution_count": 5,
   "metadata": {},
   "outputs": [
    {
     "name": "stdout",
     "output_type": "stream",
     "text": [
      "phi= [  2.51274549e-03  -9.67901608e-03  -9.44928593e-04  -8.69411563e-03\n",
      "  -2.31881025e-03  -1.25671520e-03   1.52480540e-02  -5.02814852e-03\n",
      "  -3.25327944e+01  -1.00178475e+01   7.81402580e+01  -8.41324331e+01\n",
      "  -1.37370498e-03  -4.59469363e+01  -8.09249491e+01] \n",
      "J= [[  1.00000000e+00   1.00000000e+00   1.00000000e+00   1.00000000e+00\n",
      "    1.00000000e+00   1.00000000e+00   1.00000000e+00   1.00000000e+00]\n",
      " [ -4.93820208e-17   6.93889390e-15  -7.67411850e-17   3.67721314e+00\n",
      "    2.80799393e-02   2.20038023e+01  -1.13265232e-02   1.49992561e+01]\n",
      " [ -1.72482990e-02  -2.40398266e+01  -8.81851364e-02   4.98314905e+01\n",
      "   -9.22801022e-02   5.51205499e+01   7.35456382e-02   4.78401070e+01]\n",
      " [  1.20210266e-01  -2.74670740e+01   1.78475318e-02   2.74672056e+01\n",
      "    3.96294814e-18   0.00000000e+00  -4.54761577e+01  -1.15573142e-03]\n",
      " [  7.42529628e-04   0.00000000e+00   1.15573142e-03  -7.42529628e-04\n",
      "    4.54761577e+01  -0.00000000e+00   0.00000000e+00  -4.08175377e-02]\n",
      " [ -1.03733722e-06  -5.40530126e+01  -0.00000000e+00  -8.41323535e+01\n",
      "    1.57968179e-06  -9.67474638e-02   0.00000000e+00   0.00000000e+00]\n",
      " [ -4.54552598e+01  -1.15520032e-03   6.79606139e-02   0.00000000e+00\n",
      "    1.05779236e-01   7.43353616e-04  -4.55266228e+01   0.00000000e+00]\n",
      " [  0.00000000e+00  -1.08642126e-01  -2.76103184e-06  -5.40529372e+01\n",
      "   -0.00000000e+00  -8.41322362e+01  -1.09901089e-06   6.73088193e-02]\n",
      " [ -0.00000000e+00  -0.00000000e+00   4.57644810e+01   1.16305887e-03\n",
      "   -1.14994735e-01  -0.00000000e+00  -1.78986836e-01   7.30993083e-04]\n",
      " [ -4.47696031e+01   0.00000000e+00  -0.00000000e+00   1.35821449e-01\n",
      "    3.45176736e-06   5.40528931e+01   0.00000000e+00   8.41321675e+01]\n",
      " [ -7.62559449e-20   4.67028822e-15  -0.00000000e+00  -0.00000000e+00\n",
      "    1.20021912e-14   3.05023779e-19   0.00000000e+00   0.00000000e+00]\n",
      " [  0.00000000e+00   1.37370498e-03  -8.41324331e+01   0.00000000e+00\n",
      "   -0.00000000e+00  -4.27395083e+01  -0.00000000e+00  -4.02901531e-04]\n",
      " [  0.00000000e+00  -0.00000000e+00   1.93739072e+01  -1.76423625e+01\n",
      "   -0.00000000e+00  -0.00000000e+00  -3.83612332e-02  -0.00000000e+00]\n",
      " [  2.93295253e+01  -0.00000000e+00   0.00000000e+00  -4.12166832e-02\n",
      "    3.75329384e-02   0.00000000e+00  -0.00000000e+00  -4.27198680e+01]\n",
      " [ -0.00000000e+00  -3.68758826e-02   0.00000000e+00  -0.00000000e+00\n",
      "   -1.93954065e+01   1.76619403e+01   0.00000000e+00  -0.00000000e+00]]\n"
     ]
    }
   ],
   "source": [
    "(phi,J) = nlp.evaluate(x)\n",
    "print('phi=', phi, '\\nJ=', J)"
   ]
  },
  {
   "cell_type": "code",
   "execution_count": 6,
   "metadata": {},
   "outputs": [
    {
     "name": "stdout",
     "output_type": "stream",
     "text": [
      "dim(x)= 8\n",
      "dim(x)= (8,)\n",
      "dim(phi)= (15,)\n",
      "dim(J)= (15, 8)\n"
     ]
    }
   ],
   "source": [
    "#note the dimensionalities:\n",
    "print('dim(x)=', nlp.getDimension())\n",
    "print('dim(x)=', x.shape)\n",
    "print('dim(phi)=', phi.shape)\n",
    "print('dim(J)=', J.shape)"
   ]
  },
  {
   "cell_type": "markdown",
   "metadata": {},
   "source": [
    "The features `phi` define all cost terms and inequality/equality constraint values. The feature types tell you, which feature entries refer to costs/constraints. For each feature, an integer is returned -- but actually it is an enum. So you can test equality with ry.OT.f, ry.OT.sos, ry.OT.ineq, or ry.OT.eq"
   ]
  },
  {
   "cell_type": "code",
   "execution_count": 7,
   "metadata": {},
   "outputs": [
    {
     "name": "stdout",
     "output_type": "stream",
     "text": [
      "[2 2 2 2 2 2 2 2 2 2 2 2 2 2 2]\n",
      "False\n",
      "True\n",
      "False\n",
      "False\n"
     ]
    }
   ],
   "source": [
    "types = nlp.getFeatureTypes()\n",
    "print(types)\n",
    "print(types[0] == ry.OT.f)\n",
    "print(types[0] == ry.OT.sos)\n",
    "print(types[0] == ry.OT.ineq)\n",
    "print(types[0] == ry.OT.eq)"
   ]
  },
  {
   "cell_type": "markdown",
   "metadata": {},
   "source": [
    "So, in our case, all features are sum-of-square features, the total cost function is $\\sum_i \\phi_i^2$, and we have no constraints."
   ]
  },
  {
   "cell_type": "markdown",
   "metadata": {},
   "source": [
    "Finally, the benchmark problem implement a report, which should help you to get more insight in what $x$ means and what is computed. For high verbosity it also displays something - in our case the robot in pose $x$."
   ]
  },
  {
   "cell_type": "code",
   "execution_count": 8,
   "metadata": {},
   "outputs": [
    {
     "name": "stdout",
     "output_type": "stream",
     "text": [
      "KOMO Problem:\n",
      "  x-dim:8  dual-dim:0\n",
      "  T:1 k:1 phases:1 stepsPerPhase:1 tau:1\n",
      "  #timeSlices:2 #totalDOFs:8 #frames:98\n",
      "    times:[1]\n",
      "  computeCollisions:0\n",
      "    TASK 'F_qItself/1-#16' (-1..0)  type:sos  order:1  target:[]  scale:[1, 1, 1, 1, 1, 1, 1, 1]\n",
      "    TASK 'F_PositionDiff/0-gripper-box' (0..0)  type:sos  order:0  target:[]  scale:[100]\n",
      "    TASK 'F_VectorDiff/0-gripper-box' (0..0)  type:sos  order:0  target:[]  scale:[100]\n",
      "    TASK 'F_ScalarProduct/0-gripper-box' (0..0)  type:sos  order:0  target:[]  scale:[100]\n",
      "{F_qItself/1-#16:{ order:1, type:sos, sos:0.000441219 },\n",
      "F_PositionDiff/0-gripper-box:{ order:0, type:sos, sos:7264.64 },\n",
      "F_VectorDiff/0-gripper-box:{ order:0, type:sos, sos:9189.39 },\n",
      "F_ScalarProduct/0-gripper-box:{ order:0, type:sos, sos:6548.85 },\n",
      "sos:23002.9,\n",
      "ineq:0,\n",
      "eq:0,\n",
      "f:0}\n"
     ]
    }
   ],
   "source": [
    "# the report method generally returns some info string - internal information given by the benchmark implementation\n",
    "print(nlp.report(4))"
   ]
  },
  {
   "cell_type": "markdown",
   "metadata": {},
   "source": [
    "## demo for testing\n",
    "Calling the rai optimizer as below is just for testing - you're supposed to instead implement your own solvers!"
   ]
  },
  {
   "cell_type": "code",
   "execution_count": 9,
   "metadata": {},
   "outputs": [
    {
     "data": {
      "text/plain": [
       "<libry.NLP_Solver at 0x7f43d59a0ae8>"
      ]
     },
     "execution_count": 9,
     "metadata": {},
     "output_type": "execute_result"
    }
   ],
   "source": [
    "#setup a solver with that problem\n",
    "solver = ry.NLP_Solver()\n",
    "solver.setProblem(nlp)\n",
    "solver.setSolver(ry.NLP_SolverID.newton)"
   ]
  },
  {
   "cell_type": "code",
   "execution_count": 10,
   "metadata": {},
   "outputs": [
    {
     "data": {
      "text/plain": [
       "array([-0.06007811,  0.68417406,  0.21718386, -1.95674602, -0.27367314,\n",
       "        2.61292275, -0.96180571,  0.04997098])"
      ]
     },
     "execution_count": 10,
     "metadata": {},
     "output_type": "execute_result"
    }
   ],
   "source": [
    "#solve it\n",
    "solver.solve(True)"
   ]
  },
  {
   "cell_type": "code",
   "execution_count": 11,
   "metadata": {},
   "outputs": [
    {
     "data": {
      "text/plain": [
       "array([[ -6.59519748e-04,  -1.01551361e+00,  -8.99614777e-03,\n",
       "         -1.99043320e+00,   5.16360263e-03,   2.00583468e+00,\n",
       "          1.89769477e-02,   4.46248468e-02],\n",
       "       [  5.85617797e-02,  -1.06575903e+00,  -6.40044452e-03,\n",
       "         -2.19043320e+00,  -5.21958219e-02,   2.08233655e+00,\n",
       "         -1.48150662e-01,   4.49337715e-02],\n",
       "       [  1.13406903e-01,  -1.08503611e+00,  -9.68679952e-03,\n",
       "         -2.39043320e+00,  -1.04121911e-01,   2.16874951e+00,\n",
       "         -2.84259165e-01,   4.53134794e-02],\n",
       "       [  1.70539662e-01,  -1.04346010e+00,  -2.51659151e-02,\n",
       "         -2.59043320e+00,  -1.59762739e-01,   2.28526026e+00,\n",
       "         -4.14954699e-01,   4.58067510e-02],\n",
       "       [  2.29935962e-01,  -8.46741053e-01,  -6.83318079e-02,\n",
       "         -2.77219312e+00,  -2.29310929e-01,   2.48526026e+00,\n",
       "         -5.56186543e-01,   4.65180881e-02],\n",
       "       [  2.46484026e-01,  -6.46741053e-01,  -9.89479162e-02,\n",
       "         -2.77623264e+00,  -2.56968046e-01,   2.60831483e+00,\n",
       "         -6.07399043e-01,   4.68662929e-02],\n",
       "       [  2.64292289e-01,  -4.46741053e-01,  -1.26805344e-01,\n",
       "         -2.74190218e+00,  -2.70014478e-01,   2.70556059e+00,\n",
       "         -6.54081888e-01,   4.71768153e-02],\n",
       "       [  2.90054557e-01,  -2.46741053e-01,  -1.55686626e-01,\n",
       "         -2.67951260e+00,  -2.59491924e-01,   2.77856438e+00,\n",
       "         -7.11716666e-01,   4.74878489e-02],\n",
       "       [  3.21622541e-01,  -4.67410528e-02,  -1.80072045e-01,\n",
       "         -2.59155403e+00,  -1.99634805e-01,   2.82566801e+00,\n",
       "         -8.03671260e-01,   4.78211909e-02],\n",
       "       [  3.10191706e-01,   1.53258947e-01,  -1.49193969e-01,\n",
       "         -2.47636914e+00,  -6.61122466e-02,   2.84075473e+00,\n",
       "         -9.51619642e-01,   4.81953990e-02],\n",
       "       [  1.80275291e-01,   3.53258947e-01,  -9.61671230e-03,\n",
       "         -2.31925796e+00,   1.21495692e-02,   2.80605004e+00,\n",
       "         -1.06535551e+00,   4.86466358e-02],\n",
       "       [  4.14069149e-02,   5.51877957e-01,   1.12870850e-01,\n",
       "         -2.11925796e+00,  -1.05131742e-01,   2.72129108e+00,\n",
       "         -1.03769124e+00,   4.92165073e-02],\n",
       "       [ -4.05825450e-02,   6.75795405e-01,   1.91802744e-01,\n",
       "         -1.96698792e+00,  -2.51027995e-01,   2.62727783e+00,\n",
       "         -9.71143092e-01,   4.97388358e-02],\n",
       "       [ -5.86787403e-02,   6.83685279e-01,   2.15718769e-01,\n",
       "         -1.95692877e+00,  -2.72015622e-01,   2.61327208e+00,\n",
       "         -9.62811697e-01,   4.99129453e-02],\n",
       "       [ -6.00781108e-02,   6.84174060e-01,   2.17183858e-01,\n",
       "         -1.95674602e+00,  -2.73673140e-01,   2.61292275e+00,\n",
       "         -9.61805709e-01,   4.99709818e-02]])"
      ]
     },
     "execution_count": 11,
     "metadata": {},
     "output_type": "execute_result"
    }
   ],
   "source": [
    "solver.getTrace_x()"
   ]
  },
  {
   "cell_type": "code",
   "execution_count": 12,
   "metadata": {},
   "outputs": [
    {
     "data": {
      "text/plain": [
       "array([[  2.37623796e+04,   0.00000000e+00,   0.00000000e+00],\n",
       "       [  1.99145542e+04,   0.00000000e+00,   0.00000000e+00],\n",
       "       [  1.58411462e+04,   0.00000000e+00,   0.00000000e+00],\n",
       "       [  1.13791842e+04,   0.00000000e+00,   0.00000000e+00],\n",
       "       [  6.43505966e+03,   0.00000000e+00,   0.00000000e+00],\n",
       "       [  4.69352704e+03,   0.00000000e+00,   0.00000000e+00],\n",
       "       [  3.42413739e+03,   0.00000000e+00,   0.00000000e+00],\n",
       "       [  2.40067813e+03,   0.00000000e+00,   0.00000000e+00],\n",
       "       [  1.55464651e+03,   0.00000000e+00,   0.00000000e+00],\n",
       "       [  8.58967675e+02,   0.00000000e+00,   0.00000000e+00],\n",
       "       [  3.37507844e+02,   0.00000000e+00,   0.00000000e+00],\n",
       "       [  6.62816797e+01,   0.00000000e+00,   0.00000000e+00],\n",
       "       [  5.82001911e+00,   0.00000000e+00,   0.00000000e+00],\n",
       "       [  4.26928921e+00,   0.00000000e+00,   0.00000000e+00],\n",
       "       [  4.26788647e+00,   0.00000000e+00,   0.00000000e+00]])"
      ]
     },
     "execution_count": 12,
     "metadata": {},
     "output_type": "execute_result"
    }
   ],
   "source": [
    "#the first is total cost, 2nd is ineq, 3rd is eq\n",
    "solver.getTrace_costs()"
   ]
  },
  {
   "cell_type": "code",
   "execution_count": 13,
   "metadata": {},
   "outputs": [
    {
     "name": "stdout",
     "output_type": "stream",
     "text": [
      "KOMO Problem:\n",
      "  x-dim:8  dual-dim:0\n",
      "  T:1 k:1 phases:1 stepsPerPhase:1 tau:1\n",
      "  #timeSlices:2 #totalDOFs:8 #frames:98\n",
      "    times:[1]\n",
      "  computeCollisions:0\n",
      "    TASK 'F_qItself/1-#16' (-1..0)  type:sos  order:1  target:[]  scale:[1, 1, 1, 1, 1, 1, 1, 1]\n",
      "    TASK 'F_PositionDiff/0-gripper-box' (0..0)  type:sos  order:0  target:[]  scale:[100]\n",
      "    TASK 'F_VectorDiff/0-gripper-box' (0..0)  type:sos  order:0  target:[]  scale:[100]\n",
      "    TASK 'F_ScalarProduct/0-gripper-box' (0..0)  type:sos  order:0  target:[]  scale:[100]\n",
      "{F_qItself/1-#16:{ order:1, type:sos, sos:4.26473 },\n",
      "F_PositionDiff/0-gripper-box:{ order:0, type:sos, sos:0.00288605 },\n",
      "F_VectorDiff/0-gripper-box:{ order:0, type:sos, sos:0.00017454 },\n",
      "F_ScalarProduct/0-gripper-box:{ order:0, type:sos, sos:9.29926e-05 },\n",
      "sos:4.26789,\n",
      "ineq:0,\n",
      "eq:0,\n",
      "f:0}\n"
     ]
    }
   ],
   "source": [
    "print(nlp.report(4))"
   ]
  },
  {
   "cell_type": "code",
   "execution_count": 17,
   "metadata": {},
   "outputs": [],
   "source": [
    "nlp = 0\n",
    "benchmark = 0\n",
    "solver = 0"
   ]
  },
  {
   "cell_type": "code",
   "execution_count": null,
   "metadata": {},
   "outputs": [],
   "source": []
  }
 ],
 "metadata": {
  "kernelspec": {
   "display_name": "Python 3",
   "language": "python",
   "name": "python3"
  },
  "language_info": {
   "codemirror_mode": {
    "name": "ipython",
    "version": 3
   },
   "file_extension": ".py",
   "mimetype": "text/x-python",
   "name": "python",
   "nbconvert_exporter": "python",
   "pygments_lexer": "ipython3",
   "version": "3.6.9"
  }
 },
 "nbformat": 4,
 "nbformat_minor": 4
}
