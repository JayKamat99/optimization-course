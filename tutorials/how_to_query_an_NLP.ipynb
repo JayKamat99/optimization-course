{
 "cells": [
  {
   "cell_type": "markdown",
   "metadata": {},
   "source": [
    "## Using a benchmark problem\n",
    "This tutorial shows how to use and query a benchmark problem."
   ]
  },
  {
   "cell_type": "code",
   "execution_count": 1,
   "metadata": {},
   "outputs": [
    {
     "name": "stdout",
     "output_type": "stream",
     "text": [
      "**ry-c++-log** /home/jay/git/optimization-course/rai/rai/ry/ry.cpp:init_LogToPythonConsole:34(0) initializing ry log callback\n",
      "\n"
     ]
    }
   ],
   "source": [
    "import sys\n",
    "sys.path.append('../build')\n",
    "import numpy as np\n",
    "import libry as ry"
   ]
  },
  {
   "cell_type": "markdown",
   "metadata": {},
   "source": [
    "**There a 6 benchmarks in total:** 3 scenarios, each with sequence or path variant. The sequence variants have dense Jacobians and optimize over a discrete sequence of few (maybe one) configurations; the path variants optimize over a whole continuous path and have sparse Jacobians.\n",
    "\n",
    "*All problems neglect collisions.* Esp. the last one has lots of collisions. But there are other difficulties in the last one.\n",
    "\n",
    "The following loads a benchmark problem, from which we get the ry.MathematicalProgram interface"
   ]
  },
  {
   "cell_type": "code",
   "execution_count": 2,
   "metadata": {},
   "outputs": [],
   "source": [
    "#benchmark = ry.OptBench_Skeleton_Pick(ry.arg.path)  #1. scenario: simple pick, just one configuration or path\n",
    "benchmark = ry.OptBench_Skeleton_Handover(ry.arg.path) #2. scenario: pick-handover-touch, 3 configurations or path\n",
    "#benchmark = ry.OptBench_Skeleton_StackAndBalance(ry.arg.sequence) #3. scenario: pick boxes and stack\n",
    "nlp = benchmark.get()"
   ]
  },
  {
   "cell_type": "code",
   "execution_count": 3,
   "metadata": {},
   "outputs": [],
   "source": [
    "# If you want, get a full API:\n",
    "#help(nlp)"
   ]
  },
  {
   "cell_type": "markdown",
   "metadata": {},
   "source": [
    "The first method to use is `getInitializationSample`, which returns an initial x"
   ]
  },
  {
   "cell_type": "code",
   "execution_count": 5,
   "metadata": {},
   "outputs": [],
   "source": [
    "x = nlp.getInitializationSample()"
   ]
  },
  {
   "cell_type": "markdown",
   "metadata": {},
   "source": [
    "The most important method is `evaluate(x)`, which returns a tuple `(phi,J)`"
   ]
  },
  {
   "cell_type": "code",
   "execution_count": 6,
   "metadata": {},
   "outputs": [
    {
     "name": "stdout",
     "output_type": "stream",
     "text": [
      "phi= [-1.54400259e-01 -2.86335904e-01  8.35220444e-02 ... -2.15065688e+01\n",
      " -1.10033525e+02 -1.31540751e+02] \n",
      "J= [[ 0.00000000e+00  0.00000000e+00  1.46969385e+01]\n",
      " [ 1.00000000e+00  1.00000000e+00  1.46969385e+01]\n",
      " [ 2.00000000e+00  2.00000000e+00  1.46969385e+01]\n",
      " ...\n",
      " [ 1.76300000e+03  1.67300000e+03  1.30824359e+02]\n",
      " [ 1.76300000e+03  1.67300000e+03 -6.50401406e-01]\n",
      " [ 1.76300000e+03  1.67300000e+03  0.00000000e+00]]\n"
     ]
    }
   ],
   "source": [
    "(phi,J) = nlp.evaluate(x)\n",
    "print('phi=', phi, '\\nJ=', J)"
   ]
  },
  {
   "cell_type": "markdown",
   "metadata": {},
   "source": [
    "Note the dimensionalities:"
   ]
  },
  {
   "cell_type": "code",
   "execution_count": 7,
   "metadata": {},
   "outputs": [
    {
     "name": "stdout",
     "output_type": "stream",
     "text": [
      "dim(x)= 1687\n",
      "dim(x)= (1687,)\n",
      "dim(phi)= (1764,)\n",
      "dim(J)= (10980, 3)\n"
     ]
    }
   ],
   "source": [
    "print('dim(x)=', nlp.getDimension())\n",
    "print('dim(x)=', x.shape)\n",
    "print('dim(phi)=', phi.shape)\n",
    "print('dim(J)=', J.shape)"
   ]
  },
  {
   "cell_type": "markdown",
   "metadata": {},
   "source": [
    "The features `phi` define all cost terms and inequality/equality constraint values. The feature types tell you, which feature entries refer to costs/constraints. For each feature, an integer is returned -- but actually it is an enum. So you can test equality with ry.OT.f, ry.OT.sos, ry.OT.ineq, or ry.OT.eq"
   ]
  },
  {
   "cell_type": "code",
   "execution_count": 8,
   "metadata": {},
   "outputs": [
    {
     "name": "stdout",
     "output_type": "stream",
     "text": [
      "[2 2 2 ... 4 4 4]\n",
      "False\n",
      "True\n",
      "False\n",
      "False\n"
     ]
    }
   ],
   "source": [
    "types = nlp.getFeatureTypes()\n",
    "print(types)\n",
    "print(types[0] == ry.OT.f)\n",
    "print(types[0] == ry.OT.sos)\n",
    "print(types[0] == ry.OT.ineq)\n",
    "print(types[0] == ry.OT.eq)"
   ]
  },
  {
   "cell_type": "markdown",
   "metadata": {},
   "source": [
    "In the benchmarks, most features are features are sum-of-square features (e.g. from control costs). Some are equality constraints."
   ]
  },
  {
   "cell_type": "markdown",
   "metadata": {},
   "source": [
    "Finally, the benchmark problems implement a report method, which should help you to get more insight in what $x$ means and what is computed. For high verbosity it also displays something - in our case the robot in pose $x$.\n",
    "\n",
    "**Hit ENTER in the displayed window** to continue."
   ]
  },
  {
   "cell_type": "code",
   "execution_count": 10,
   "metadata": {},
   "outputs": [
    {
     "name": "stdout",
     "output_type": "stream",
     "text": [
      "KOMO Problem:\n",
      "  x-dim:1687  dual-dim:0\n",
      "  T:90 k:2 phases:3 stepsPerPhase:30 tau:0.166667\n",
      "  #timeSlices:92 #totalDOFs:1687 #frames:5152  #pathQueries:1\n",
      "    times:[0.166667, 0.333333, 0.5, 0.666667, 0.833333, 1, 1.16667, 1.33333, 1.5, 1.66667]\n",
      "  computeCollisions:0\n",
      "    TASK 'F_qItself/2-#28' (-2..89)  type:sos  order:2  target:[]  scale:[0.408248, 0.408248, 0.408248, 0.408248, 0.408248, 0.408248, 0.408248, 0.408248, 0.408248, 0.408248, 0.408248, 0.408248, 0.408248, 0.408248]\n",
      "    TASK 'F_qQuaternionNorms/0-#56' (0..89)  type:eq  order:0  target:[]  scale:[3]\n",
      "    TASK 'F_qZeroVel/1-stick' (29..58)  type:eq  order:1  target:[]  scale:[10]\n",
      "    TASK 'F_Pose/1-stick' (28..30)  type:eq  order:1  target:[]  scale:[100]\n",
      "    TASK 'F_PoseRel/1-stick-R_endeff' (58..59)  type:eq  order:1  target:[]  scale:[100]\n",
      "    TASK 'F_LinAngVel/2-stick' (58..60)  type:eq  order:2  target:[]  scale:[1]\n",
      "    TASK 'F_qZeroVel/1-stick' (59..89)  type:eq  order:1  target:[]  scale:[10]\n",
      "    TASK 'F_PairCollision/0-R_endeff-stick' (29..29)  type:eq  order:0  target:[]  scale:[100]\n",
      "    TASK 'F_PairCollision/0-L_endeff-stick' (59..59)  type:eq  order:0  target:[]  scale:[100]\n",
      "    TASK 'F_PairCollision/0-stick-ball' (89..89)  type:eq  order:0  target:[]  scale:[100]\n",
      "    SWITCH  timeOfApplication=29  symbol=joint  jointType=free  fromId=54'R_endeff'  toId=6'stick'\n",
      "    SWITCH  timeOfApplication=59  symbol=joint  jointType=free  fromId=30'L_endeff'  toId=6'stick'\n",
      "{F_qItself/2-#28:{ order:2, type:sos, sos:174.127 },\n",
      "F_qQuaternionNorms/0-#56:{ order:0, type:eq, eq:2.78861 },\n",
      "F_qZeroVel/1-stick:{ order:1, type:eq, eq:683.47 },\n",
      "F_Pose/1-stick:{ order:1, type:eq, eq:90.1736 },\n",
      "F_PoseRel/1-stick-R_endeff:{ order:1, type:eq, eq:42.1227 },\n",
      "F_LinAngVel/2-stick:{ order:2, type:eq, eq:7.86799 },\n",
      "F_qZeroVel/1-stick:{ order:1, type:eq, eq:654.732 },\n",
      "F_PairCollision/0-R_endeff-stick:{ order:0, type:eq, eq:21.5066 },\n",
      "F_PairCollision/0-L_endeff-stick:{ order:0, type:eq, eq:110.034 },\n",
      "F_PairCollision/0-stick-ball:{ order:0, type:eq, eq:131.541 },\n",
      "sos:174.127,\n",
      "ineq:0,\n",
      "eq:1744.24,\n",
      "f:0}\n"
     ]
    }
   ],
   "source": [
    "# the report method generally returns some info string - internal information given by the benchmark implementation\n",
    "print(nlp.report(4))"
   ]
  },
  {
   "cell_type": "markdown",
   "metadata": {},
   "source": [
    "## demo for testing\n",
    "Calling the rai optimizer as below is just for testing - you're supposed to instead implement your own solvers!"
   ]
  },
  {
   "cell_type": "code",
   "execution_count": 11,
   "metadata": {},
   "outputs": [
    {
     "data": {
      "text/plain": [
       "<libry.NLP_Solver at 0x7fdc4c3d57a0>"
      ]
     },
     "execution_count": 11,
     "metadata": {},
     "output_type": "execute_result"
    }
   ],
   "source": [
    "#setup a solver with that problem\n",
    "solver = ry.NLP_Solver()\n",
    "solver.setProblem(nlp)\n",
    "solver.setSolver(ry.NLP_SolverID.augmentedLag)"
   ]
  },
  {
   "cell_type": "code",
   "execution_count": 12,
   "metadata": {},
   "outputs": [
    {
     "data": {
      "text/plain": [
       "array([ 2.30573125e-04, -2.99986719e-01,  1.07777304e-04, ...,\n",
       "       -9.96337522e-02, -1.34002916e+00, -1.19075127e-01])"
      ]
     },
     "execution_count": 12,
     "metadata": {},
     "output_type": "execute_result"
    }
   ],
   "source": [
    "#solve it\n",
    "solver.solve(True)"
   ]
  },
  {
   "cell_type": "code",
   "execution_count": 13,
   "metadata": {},
   "outputs": [
    {
     "data": {
      "text/plain": [
       "array([[-9.79108285e-03, -3.26862870e-01,  1.19123239e-02, ...,\n",
       "         3.46911551e-02, -1.30488362e+00, -1.02992746e-02],\n",
       "       [-7.95877261e-03, -3.21811814e-01,  9.65355424e-03, ...,\n",
       "         2.93054177e-02, -1.30406252e+00, -9.86888543e-03],\n",
       "       [-6.11341050e-03, -3.16739020e-01,  7.38767997e-03, ...,\n",
       "         2.33304819e-02, -1.30327553e+00, -9.84431256e-03],\n",
       "       ...,\n",
       "       [ 2.01811783e-04, -2.99991926e-01,  8.63423209e-05, ...,\n",
       "        -9.80439892e-02, -1.33937439e+00, -1.18711450e-01],\n",
       "       [ 2.13447289e-04, -2.99989759e-01,  9.49627579e-05, ...,\n",
       "        -9.87231451e-02, -1.33965218e+00, -1.18923475e-01],\n",
       "       [ 2.30573125e-04, -2.99986719e-01,  1.07777304e-04, ...,\n",
       "        -9.96337522e-02, -1.34002916e+00, -1.19075127e-01]])"
      ]
     },
     "execution_count": 13,
     "metadata": {},
     "output_type": "execute_result"
    }
   ],
   "source": [
    "# the trace of queries\n",
    "solver.getTrace_x()"
   ]
  },
  {
   "cell_type": "code",
   "execution_count": 14,
   "metadata": {},
   "outputs": [
    {
     "data": {
      "text/plain": [
       "array([[3.36357166e+02, 0.00000000e+00, 2.41564632e+03],\n",
       "       [2.20891307e+02, 0.00000000e+00, 1.96708690e+03],\n",
       "       [1.29445698e+02, 0.00000000e+00, 1.51810472e+03],\n",
       "       [6.26455287e+01, 0.00000000e+00, 1.07283507e+03],\n",
       "       [2.02928313e+01, 0.00000000e+00, 6.27480292e+02],\n",
       "       [2.46377628e+00, 0.00000000e+00, 2.13646263e+02],\n",
       "       [6.64943783e-01, 0.00000000e+00, 4.31379676e+01],\n",
       "       [4.74207320e-01, 0.00000000e+00, 2.07893672e+01],\n",
       "       [3.76299899e-01, 0.00000000e+00, 2.38540013e+01],\n",
       "       [4.18671791e-01, 0.00000000e+00, 1.62077992e+01],\n",
       "       [3.74389640e-01, 0.00000000e+00, 1.86239956e+01],\n",
       "       [3.93328303e-01, 0.00000000e+00, 1.36230644e+01],\n",
       "       [3.54560394e-01, 0.00000000e+00, 1.38451897e+01],\n",
       "       [3.72633012e-01, 0.00000000e+00, 1.19025762e+01],\n",
       "       [3.57109685e-01, 0.00000000e+00, 9.42771591e+00],\n",
       "       [3.13876505e-01, 0.00000000e+00, 1.04422850e+01],\n",
       "       [3.34138938e-01, 0.00000000e+00, 8.39106146e+00],\n",
       "       [3.22495702e-01, 0.00000000e+00, 6.93127097e+00],\n",
       "       [2.78257127e-01, 0.00000000e+00, 7.74772366e+00],\n",
       "       [2.98876113e-01, 0.00000000e+00, 6.06138364e+00],\n",
       "       [2.88895376e-01, 0.00000000e+00, 4.19174085e+00],\n",
       "       [2.52724162e-01, 0.00000000e+00, 7.15873609e+00],\n",
       "       [2.69424407e-01, 0.00000000e+00, 4.23918295e+00],\n",
       "       [2.78813551e-01, 0.00000000e+00, 3.77165488e+00],\n",
       "       [2.71250037e-01, 0.00000000e+00, 3.28842141e+00],\n",
       "       [2.55222520e-01, 0.00000000e+00, 3.83025952e+00],\n",
       "       [2.62965194e-01, 0.00000000e+00, 3.13038782e+00],\n",
       "       [2.55439239e-01, 0.00000000e+00, 2.80939171e+00],\n",
       "       [2.39199579e-01, 0.00000000e+00, 3.49946118e+00],\n",
       "       [2.47008926e-01, 0.00000000e+00, 2.75207995e+00],\n",
       "       [2.40242305e-01, 0.00000000e+00, 2.39037333e+00],\n",
       "       [2.26659306e-01, 0.00000000e+00, 3.24572749e+00],\n",
       "       [2.33114936e-01, 0.00000000e+00, 2.31441295e+00],\n",
       "       [2.36594653e-01, 0.00000000e+00, 2.18022783e+00],\n",
       "       [2.34142133e-01, 0.00000000e+00, 1.69700430e+00],\n",
       "       [2.29844966e-01, 0.00000000e+00, 1.31841983e+00],\n",
       "       [2.20265373e-01, 0.00000000e+00, 1.76919411e+00],\n",
       "       [2.24891731e-01, 0.00000000e+00, 1.27749109e+00],\n",
       "       [2.27327489e-01, 0.00000000e+00, 1.20571528e+00],\n",
       "       [2.25070877e-01, 0.00000000e+00, 9.56446996e-01],\n",
       "       [2.21603978e-01, 0.00000000e+00, 6.73622887e-01],\n",
       "       [2.15740293e-01, 0.00000000e+00, 6.75981340e-01],\n",
       "       [2.18612274e-01, 0.00000000e+00, 5.67962855e-01],\n",
       "       [2.14568110e-01, 0.00000000e+00, 4.44156540e-01],\n",
       "       [2.07894287e-01, 0.00000000e+00, 7.03430443e-01],\n",
       "       [2.11147702e-01, 0.00000000e+00, 4.24813937e-01],\n",
       "       [2.12837032e-01, 0.00000000e+00, 3.91640222e-01],\n",
       "       [2.10913125e-01, 0.00000000e+00, 2.70354391e-01],\n",
       "       [2.08089141e-01, 0.00000000e+00, 1.14661362e-01],\n",
       "       [2.03922939e-01, 0.00000000e+00, 8.93440317e-02],\n",
       "       [1.97661019e-01, 0.00000000e+00, 1.10619562e-01],\n",
       "       [2.00721081e-01, 0.00000000e+00, 1.07800475e-01],\n",
       "       [1.96197514e-01, 0.00000000e+00, 5.23018962e-02],\n",
       "       [1.98420573e-01, 0.00000000e+00, 1.27076392e-01],\n",
       "       [1.95409009e-01, 0.00000000e+00, 1.90027944e-01],\n",
       "       [1.90644237e-01, 0.00000000e+00, 2.90414612e-02]])"
      ]
     },
     "execution_count": 14,
     "metadata": {},
     "output_type": "execute_result"
    }
   ],
   "source": [
    "#the trace of objectives for each query: the first is total cost, 2nd is ineq, 3rd is eq\n",
    "solver.getTrace_costs()"
   ]
  },
  {
   "cell_type": "code",
   "execution_count": null,
   "metadata": {},
   "outputs": [],
   "source": [
    "print(nlp.report(6))"
   ]
  },
  {
   "cell_type": "code",
   "execution_count": 14,
   "metadata": {},
   "outputs": [],
   "source": [
    "nlp = 0\n",
    "benchmark = 0\n",
    "solver = 0"
   ]
  },
  {
   "cell_type": "code",
   "execution_count": null,
   "metadata": {},
   "outputs": [],
   "source": []
  }
 ],
 "metadata": {
  "kernelspec": {
   "display_name": "Python 3",
   "language": "python",
   "name": "python3"
  },
  "language_info": {
   "codemirror_mode": {
    "name": "ipython",
    "version": 3
   },
   "file_extension": ".py",
   "mimetype": "text/x-python",
   "name": "python",
   "nbconvert_exporter": "python",
   "pygments_lexer": "ipython3",
   "version": "3.6.9"
  }
 },
 "nbformat": 4,
 "nbformat_minor": 4
}
